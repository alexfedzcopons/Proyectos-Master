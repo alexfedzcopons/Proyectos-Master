{
 "cells": [
  {
   "cell_type": "code",
   "execution_count": 4,
   "id": "d8ab887f",
   "metadata": {},
   "outputs": [],
   "source": [
    "import json"
   ]
  },
  {
   "cell_type": "markdown",
   "id": "55f6521e",
   "metadata": {},
   "source": [
    "Se usa json.load en vez de loads porque es para un documento"
   ]
  },
  {
   "cell_type": "code",
   "execution_count": 7,
   "id": "24da5994",
   "metadata": {},
   "outputs": [
    {
     "name": "stdout",
     "output_type": "stream",
     "text": [
      "{'question': '12-8 = ?', 'options': ['1', '2', '3', '4'], 'answer': '4'}\n"
     ]
    }
   ],
   "source": [
    "with open(\"data.json\",\"r\") as document:\n",
    "    data = json.load(document)\n",
    "print(data[\"quiz\"][\"maths\"][\"q2\"])"
   ]
  },
  {
   "cell_type": "code",
   "execution_count": 14,
   "id": "e1ce4894",
   "metadata": {},
   "outputs": [
    {
     "name": "stdout",
     "output_type": "stream",
     "text": [
      "{\"quiz\": {\"sport\": {\"q1\": {\"question\": \"Which one is a correct NBA team name?\", \"options\": [\"New York Bulls\", \"Los Angeles Kings\", \"Golden State Warriors\", \"Huston Rocket\"], \"answer\": \"Huston Rocket\"}}, \"maths\": {\"q1\": {\"question\": \"5 + 7 = ?\", \"options\": [\"20\", \"12\", \"30\", \"57\"], \"answer\": \"12\"}, \"q2\": {\"question\": \"12-8 = ?\", \"options\": [\"1\", \"2\", \"3\", \"4\"], \"answer\": \"4\"}}}}\n"
     ]
    }
   ],
   "source": [
    "json_string = json.dumps(data)\n",
    "print(json_string)"
   ]
  },
  {
   "cell_type": "markdown",
   "id": "3581b84f",
   "metadata": {},
   "source": [
    "response.json() devuelve un diccionario de Python"
   ]
  },
  {
   "cell_type": "code",
   "execution_count": 36,
   "id": "af21d0a9",
   "metadata": {},
   "outputs": [
    {
     "name": "stdout",
     "output_type": "stream",
     "text": [
      "{'code': 'AF', 'name': 'Africa', 'areaSqKm': 30370000, 'population': 1340598000, 'lines': ['Equator', 'Prime Meridian'], 'countries': 54, 'oceans': ['Atlantic Ocean, Indian Ocean'], 'developedCountries': ['South Africa', 'Egypt', 'Nigeria']}\n",
      "{'code': 'AN', 'name': 'Antarctica', 'areaSqKm': 14000000, 'population': 1000, 'lines': ['Antarctic Circle', '180th Meridian'], 'countries': 0, 'oceans': ['Southern Ocean'], 'developedCountries': []}\n",
      "{'code': 'AS', 'name': 'Asia', 'areaSqKm': 44579000, 'population': 4641055000, 'lines': ['Equator', 'Tropic of Cancer'], 'countries': 49, 'oceans': ['Indian Ocean', 'Pacific Ocean'], 'developedCountries': ['Japan', 'South Korea', 'Singapore', 'United Arab Emirates']}\n",
      "{'code': 'EU', 'name': 'Europe', 'areaSqKm': 10180000, 'population': 747636000, 'lines': ['Prime Meridian', 'Arctic Circle'], 'countries': 44, 'oceans': ['Atlantic Ocean', 'Arctic Ocean'], 'developedCountries': ['Germany', 'United Kingdom', 'France', 'Italy', 'Spain']}\n",
      "{'code': 'NA', 'name': 'North America', 'areaSqKm': 24709000, 'population': 579750000, 'lines': ['Tropic of Cancer', 'Arctic Circle'], 'countries': 23, 'oceans': ['Atlantic Ocean', 'Pacific Ocean', 'Arctic Ocean'], 'developedCountries': ['United States', 'Canada', 'Mexico']}\n",
      "{'code': 'OC', 'name': 'Oceania', 'areaSqKm': 8500000, 'population': 43155000, 'lines': ['Tropic of Capricorn', '180th Meridian'], 'countries': 14, 'oceans': ['Pacific Ocean'], 'developedCountries': ['Australia', 'New Zealand']}\n",
      "{'code': 'SA', 'name': 'South America', 'areaSqKm': 17840000, 'population': 426768000, 'lines': ['Equator', 'Tropic of Capricorn'], 'countries': 12, 'oceans': ['Atlantic Ocean', 'Pacific Ocean'], 'developedCountries': ['Brazil', 'Argentina', 'Chile']}\n"
     ]
    }
   ],
   "source": [
    "import requests\n",
    "response = requests.get(\"https://dummy-json.mock.beeceptor.com/continents\")\n",
    "\n",
    "data = response.json()\n",
    "\n",
    "for (i) in data:\n",
    "    print(i)\n",
    "\n",
    "#print(data[0][\"lines\"])"
   ]
  }
 ],
 "metadata": {
  "kernelspec": {
   "display_name": "uem24",
   "language": "python",
   "name": "python3"
  },
  "language_info": {
   "codemirror_mode": {
    "name": "ipython",
    "version": 3
   },
   "file_extension": ".py",
   "mimetype": "text/x-python",
   "name": "python",
   "nbconvert_exporter": "python",
   "pygments_lexer": "ipython3",
   "version": "3.13.2"
  }
 },
 "nbformat": 4,
 "nbformat_minor": 5
}
